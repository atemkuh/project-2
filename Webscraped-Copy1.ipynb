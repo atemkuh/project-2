{
 "cells": [
  {
   "cell_type": "code",
   "execution_count": null,
   "metadata": {},
   "outputs": [],
   "source": [
    "import itertools\n",
    "from opencage.geocoder import OpenCageGeocode\n",
    "from bs4 import BeautifulSoup as bs\n",
    "import numpy as np\n",
    "from selenium import webdriver\n",
    "from splinter import Browser\n",
    "import pandas as pd\n",
    "import os\n",
    "import time\n",
    "import requests\n",
    "import warnings\n",
    "warnings.filterwarnings('ignore')"
   ]
  },
  {
   "cell_type": "code",
   "execution_count": null,
   "metadata": {},
   "outputs": [],
   "source": [
    "path = \"Aviation_Accident_Report_df2.csv\"\n",
    "aar_csv = pd.read_csv(path)\n",
    "aar_csv"
   ]
  },
  {
   "cell_type": "code",
   "execution_count": null,
   "metadata": {},
   "outputs": [],
   "source": [
    "cities = aar_csv[\"City\"].to_list()\n",
    "states = aar_csv[\"State\"].to_list()\n",
    "\n",
    "key = \"8006a222e9ce4db7a69d9e8ba04f10e8\"\n",
    "\n",
    "lati = []\n",
    "longi = []\n",
    "\n",
    "\n",
    "for (city, state) in zip(cities, states):\n",
    "    try:\n",
    "        geocoder = OpenCageGeocode(key)\n",
    "        query = f'{city}, {state}'\n",
    "        results = geocoder.geocode(query)\n",
    "        lat = results[0]['geometry']['lat']\n",
    "        lng = results[0]['geometry']['lng']\n",
    "        lati.append(lat)\n",
    "        longi.append(lng)\n",
    "        time.sleep(1)\n",
    "    except KeyError:\n",
    "        print(city)\n"
   ]
  },
  {
   "cell_type": "code",
   "execution_count": null,
   "metadata": {},
   "outputs": [],
   "source": [
    "\n",
    "aar_csv['Latitude'] = lati\n",
    "aar_csv['Longitude'] = longi"
   ]
  },
  {
   "cell_type": "code",
   "execution_count": null,
   "metadata": {},
   "outputs": [],
   "source": [
    "aar_csv\n",
    "aar_csv.to_csv('Aviation_Accident_Report_df2.csv', index = False)\n"
   ]
  },
  {
   "cell_type": "code",
   "execution_count": null,
   "metadata": {},
   "outputs": [],
   "source": [
    "#Just testing stuff.... this is probably useless so ignore it please. Or don't. It's up to you really.\n",
    "\n",
    "url ='https://aviation-safety.net/statistics/worst/worst.php?list=worstground'\n",
    "#soup = BeautifulSoup(requests.get(the_url).text)\n",
    "#aar_tables = pd.read_html(str(soup.find_all('table')[9]))\n",
    "r = requests.get(url)\n",
    "pp = pprint.PrettyPrinter(indent=4)\n",
    "pp.pprint(r)"
   ]
  },
  {
   "cell_type": "code",
   "execution_count": null,
   "metadata": {},
   "outputs": [],
   "source": [
    "\n",
    "\n",
    "driver = webdriver.Chrome()\n",
    "driver.get(\"https://aviation-safety.net/statistics/worst/worst.php?list=worstground\")\n",
    "\n",
    "html = driver.page_source\n",
    "\n",
    "tables = pd.read_html(html)\n",
    "\n",
    "driver.close()\n",
    "\n"
   ]
  },
  {
   "cell_type": "code",
   "execution_count": null,
   "metadata": {},
   "outputs": [],
   "source": [
    "# THE DEED IS DONE AND I GOT THE TABLE\n",
    "\n",
    "deaths = tables[0]\n",
    "deaths"
   ]
  },
  {
   "cell_type": "code",
   "execution_count": null,
   "metadata": {},
   "outputs": [],
   "source": [
    "\n",
    "#Url params\n",
    "pages = [1]\n",
    "years = np.arange().tolist()\n",
    "\n",
    "#List results\n",
    "Fatalities = []\n",
    "Dates = []\n",
    "Type = []\n",
    "Registration = []\n",
    "Operator = []\n",
    "Location = []\n",
    "Cat = []\n",
    "\n",
    "\n",
    "for year in years:\n",
    "    for page in pages:\n",
    "        try:\n",
    "            driver = webdriver.Chrome()\n",
    "            driver.get(f\"https://aviation-safety.net/statistics/worst/worst.php?list=worstground\")\n",
    "            html = driver.page_source\n",
    "            a_tables = pd.read_html(html)\n",
    "            accidents = a_tables[0]\n",
    "            Fatalities.append(accidents[\"fat.\"].to_list())\n",
    "            Registration.append(accidents[\"registration\"].to_list())\n",
    "            Dates.append(accidents[\"date\"].to_list())\n",
    "            Type.append(accidents[\"type\"].to_list())\n",
    "            Operator.append(accidents[\"operator\"].to_list())\n",
    "            Location.append(accidents[\"location\"].to_list())\n",
    "            Cat.append(accidents[\"cat\"].to_list())\n",
    "            \n",
    "            driver.close()\n",
    "        \n",
    "        except (KeyError, ValueError):\n",
    "            print(\"Page not found\")\n",
    "            \n",
    "            driver.close()\n",
    "        \n",
    "        \n",
    "\n",
    "\n",
    "\n"
   ]
  },
  {
   "cell_type": "code",
   "execution_count": null,
   "metadata": {},
   "outputs": [],
   "source": [
    "\n",
    "new_Dates = list(itertools.chain.from_iterable(Dates))\n",
    "new_Type = list(itertools.chain.from_iterable(Type))\n",
    "new_Registration = list(itertools.chain.from_iterable(Registration))\n",
    "new_Operator = list(itertools.chain.from_iterable(Dates))\n",
    "new_Fatalities = list(itertools.chain.from_iterable(Fatalities))\n",
    "new_Location = list(itertools.chain.from_iterable(Location))\n",
    "new_Cat = list(itertools.chain.from_iterable(Cat))\n"
   ]
  },
  {
   "cell_type": "code",
   "execution_count": null,
   "metadata": {},
   "outputs": [],
   "source": [
    "mistakes = {'Date': new_Dates,\n",
    "        'Type': new_Type,\n",
    "        'Registration': new_Registration,\n",
    "        'Operator': new_Operator,\n",
    "        'Fatalities': new_Fatalities,\n",
    "        'Location': new_Location,\n",
    "        'Cat': new_Cat\n",
    "        }\n",
    "\n",
    "Accident_df = pd.DataFrame(mistakes, columns = ['Date', 'Type', 'Registration',\n",
    "                                               'Operator', 'Fatalities', 'Location', 'Cat'])\n",
    "\n",
    "Accident_df"
   ]
  },
  {
   "cell_type": "code",
   "execution_count": null,
   "metadata": {},
   "outputs": [],
   "source": [
    "Accident_df.to_csv('worst_accident.csv', index = False)"
   ]
  },
  {
   "cell_type": "code",
   "execution_count": null,
   "metadata": {},
   "outputs": [],
   "source": []
  }
 ],
 "metadata": {
  "kernelspec": {
   "display_name": "Python 3",
   "language": "python",
   "name": "python3"
  }
 },
 "nbformat": 4,
 "nbformat_minor": 4
}
